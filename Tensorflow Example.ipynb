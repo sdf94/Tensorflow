{
 "cells": [
  {
   "cell_type": "code",
   "execution_count": 1,
   "metadata": {},
   "outputs": [
    {
     "name": "stdout",
     "output_type": "stream",
     "text": [
      "W: [-0.9999969] b: [ 0.99999082] loss: 5.69997e-11\n"
     ]
    }
   ],
   "source": [
    "import tensorflow as tf\n",
    "\n",
    "# Model parameters\n",
    "W = tf.Variable([.3], dtype=tf.float32)\n",
    "b = tf.Variable([-.3], dtype=tf.float32)\n",
    "\n",
    "# Model input and output\n",
    "x = tf.placeholder(tf.float32)\n",
    "linear_model = W * x + b\n",
    "y = tf.placeholder(tf.float32)\n",
    "\n",
    "# loss\n",
    "loss = tf.reduce_sum(tf.square(linear_model - y)) # sum of the squares\n",
    "\n",
    "# optimizer\n",
    "optimizer = tf.train.GradientDescentOptimizer(0.01)\n",
    "train = optimizer.minimize(loss)\n",
    "\n",
    "# training data\n",
    "x_train = [1, 2, 3, 4]\n",
    "y_train = [0, -1, -2, -3]\n",
    "# training loop\n",
    "init = tf.global_variables_initializer()\n",
    "sess = tf.Session()\n",
    "sess.run(init) # reset values to wrong\n",
    "for i in range(1000):\n",
    "  sess.run(train, {x: x_train, y: y_train})\n",
    "\n",
    "# evaluate training accuracy\n",
    "curr_W, curr_b, curr_loss = sess.run([W, b, loss], {x: x_train, y: y_train})\n",
    "print(\"W: %s b: %s loss: %s\"%(curr_W, curr_b, curr_loss))"
   ]
  },
  {
   "cell_type": "code",
   "execution_count": 2,
   "metadata": {},
   "outputs": [
    {
     "name": "stdout",
     "output_type": "stream",
     "text": [
      "INFO:tensorflow:Using default config.\n",
      "WARNING:tensorflow:Using temporary folder as model directory: /var/folders/m7/wt753s9n42q1yh0_tbkfgzgm0000gn/T/tmpE6e9O2\n",
      "INFO:tensorflow:Using config: {'_save_checkpoints_secs': 600, '_session_config': None, '_keep_checkpoint_max': 5, '_tf_random_seed': 1, '_keep_checkpoint_every_n_hours': 10000, '_log_step_count_steps': 100, '_save_checkpoints_steps': None, '_model_dir': '/var/folders/m7/wt753s9n42q1yh0_tbkfgzgm0000gn/T/tmpE6e9O2', '_save_summary_steps': 100}\n",
      "INFO:tensorflow:Create CheckpointSaverHook.\n",
      "INFO:tensorflow:Saving checkpoints for 1 into /var/folders/m7/wt753s9n42q1yh0_tbkfgzgm0000gn/T/tmpE6e9O2/model.ckpt.\n",
      "INFO:tensorflow:loss = 14.0, step = 1\n",
      "INFO:tensorflow:global_step/sec: 844.252\n",
      "INFO:tensorflow:loss = 0.438845, step = 101 (0.120 sec)\n",
      "INFO:tensorflow:global_step/sec: 753.978\n",
      "INFO:tensorflow:loss = 0.113613, step = 201 (0.132 sec)\n",
      "INFO:tensorflow:global_step/sec: 542.467\n",
      "INFO:tensorflow:loss = 0.00936207, step = 301 (0.188 sec)\n",
      "INFO:tensorflow:global_step/sec: 317.683\n",
      "INFO:tensorflow:loss = 0.000661272, step = 401 (0.311 sec)\n",
      "INFO:tensorflow:global_step/sec: 482.716\n",
      "INFO:tensorflow:loss = 0.0007436, step = 501 (0.211 sec)\n",
      "INFO:tensorflow:global_step/sec: 650.043\n",
      "INFO:tensorflow:loss = 0.000195029, step = 601 (0.151 sec)\n",
      "INFO:tensorflow:global_step/sec: 355.958\n",
      "INFO:tensorflow:loss = 8.56643e-05, step = 701 (0.287 sec)\n",
      "INFO:tensorflow:global_step/sec: 551.277\n",
      "INFO:tensorflow:loss = 1.48177e-05, step = 801 (0.175 sec)\n",
      "INFO:tensorflow:global_step/sec: 773.863\n",
      "INFO:tensorflow:loss = 2.40261e-06, step = 901 (0.132 sec)\n",
      "INFO:tensorflow:Saving checkpoints for 1000 into /var/folders/m7/wt753s9n42q1yh0_tbkfgzgm0000gn/T/tmpE6e9O2/model.ckpt.\n",
      "INFO:tensorflow:Loss for final step: 7.06679e-07.\n",
      "INFO:tensorflow:Starting evaluation at 2017-10-25-20:28:58\n",
      "INFO:tensorflow:Restoring parameters from /var/folders/m7/wt753s9n42q1yh0_tbkfgzgm0000gn/T/tmpE6e9O2/model.ckpt-1000\n",
      "INFO:tensorflow:Finished evaluation at 2017-10-25-20:28:59\n",
      "INFO:tensorflow:Saving dict for global step 1000: average_loss = 1.382e-07, global_step = 1000, loss = 5.528e-07\n",
      "INFO:tensorflow:Starting evaluation at 2017-10-25-20:28:59\n",
      "INFO:tensorflow:Restoring parameters from /var/folders/m7/wt753s9n42q1yh0_tbkfgzgm0000gn/T/tmpE6e9O2/model.ckpt-1000\n",
      "INFO:tensorflow:Finished evaluation at 2017-10-25-20:29:00\n",
      "INFO:tensorflow:Saving dict for global step 1000: average_loss = 0.00255737, global_step = 1000, loss = 0.0102295\n",
      "train metrics: {'average_loss': 1.3819994e-07, 'global_step': 1000, 'loss': 5.5279975e-07}\n",
      "eval metrics: {'average_loss': 0.0025573708, 'global_step': 1000, 'loss': 0.010229483}\n"
     ]
    }
   ],
   "source": [
    "import tensorflow as tf\n",
    "# NumPy is often used to load, manipulate and preprocess data.\n",
    "import numpy as np\n",
    "\n",
    "# Declare list of features. We only have one numeric feature. There are many\n",
    "# other types of columns that are more complicated and useful.\n",
    "feature_columns = [tf.feature_column.numeric_column(\"x\", shape=[1])]\n",
    "\n",
    "# An estimator is the front end to invoke training (fitting) and evaluation\n",
    "# (inference). There are many predefined types like linear regression,\n",
    "# linear classification, and many neural network classifiers and regressors.\n",
    "# The following code provides an estimator that does linear regression.\n",
    "estimator = tf.estimator.LinearRegressor(feature_columns=feature_columns)\n",
    "\n",
    "# TensorFlow provides many helper methods to read and set up data sets.\n",
    "# Here we use two data sets: one for training and one for evaluation\n",
    "# We have to tell the function how many batches\n",
    "# of data (num_epochs) we want and how big each batch should be.\n",
    "x_train = np.array([1., 2., 3., 4.])\n",
    "y_train = np.array([0., -1., -2., -3.])\n",
    "x_eval = np.array([2., 5., 8., 1.])\n",
    "y_eval = np.array([-1.01, -4.1, -7, 0.])\n",
    "input_fn = tf.estimator.inputs.numpy_input_fn(\n",
    "    {\"x\": x_train}, y_train, batch_size=4, num_epochs=None, shuffle=True)\n",
    "train_input_fn = tf.estimator.inputs.numpy_input_fn(\n",
    "    {\"x\": x_train}, y_train, batch_size=4, num_epochs=1000, shuffle=False)\n",
    "eval_input_fn = tf.estimator.inputs.numpy_input_fn(\n",
    "    {\"x\": x_eval}, y_eval, batch_size=4, num_epochs=1000, shuffle=False)\n",
    "\n",
    "# We can invoke 1000 training steps by invoking the  method and passing the\n",
    "# training data set.\n",
    "estimator.train(input_fn=input_fn, steps=1000)\n",
    "\n",
    "# Here we evaluate how well our model did.\n",
    "train_metrics = estimator.evaluate(input_fn=train_input_fn)\n",
    "eval_metrics = estimator.evaluate(input_fn=eval_input_fn)\n",
    "print(\"train metrics: %r\"% train_metrics)\n",
    "print(\"eval metrics: %r\"% eval_metrics)"
   ]
  },
  {
   "cell_type": "code",
   "execution_count": null,
   "metadata": {},
   "outputs": [],
   "source": []
  }
 ],
 "metadata": {
  "kernelspec": {
   "display_name": "Python 2",
   "language": "python",
   "name": "python2"
  },
  "language_info": {
   "codemirror_mode": {
    "name": "ipython",
    "version": 2
   },
   "file_extension": ".py",
   "mimetype": "text/x-python",
   "name": "python",
   "nbconvert_exporter": "python",
   "pygments_lexer": "ipython2",
   "version": "2.7.14"
  }
 },
 "nbformat": 4,
 "nbformat_minor": 2
}
